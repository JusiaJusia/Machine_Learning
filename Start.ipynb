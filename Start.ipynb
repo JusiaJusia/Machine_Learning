{
 "cells": [
  {
   "cell_type": "code",
   "execution_count": null,
   "metadata": {},
   "outputs": [],
   "source": [
    "lets start :)"
   ]
  },
  {
   "cell_type": "code",
   "execution_count": null,
   "metadata": {},
   "outputs": [],
   "source": [
    "Jak już masz tablicę X (cechy dla naszych obiektów) i wektor y (odpowiedzi dla obiektów lub zmienną docelową [eng. target variable]), to już możemy zacząć budować model.\n",
    "\n",
    "Ten proces składa się z prostych trzech kroków:\n",
    "\n",
    "Wybór modelu (algorytmu) i utworzenie instancji\n",
    "Trenowanie modelu (podając X i y) => fit(X_train, y_train)\n",
    "Predykcja modelu (w tym przypadku podajemy tylko cechy, bo odpowiedź zwraca model) => predict(X_test)\n",
    "Swoją drogą, zwykle odpowiedź z modelu jest przypisywana do zmiennej y_pred (oczywiście możesz tą zmienną nazwać, jak tylko chcesz), ale polecam trzymać się tej konwencji."
   ]
  }
 ],
 "metadata": {
  "kernelspec": {
   "display_name": "Python 3",
   "language": "python",
   "name": "python3"
  },
  "language_info": {
   "codemirror_mode": {
    "name": "ipython",
    "version": 3
   },
   "file_extension": ".py",
   "mimetype": "text/x-python",
   "name": "python",
   "nbconvert_exporter": "python",
   "pygments_lexer": "ipython3",
   "version": "3.7.3"
  }
 },
 "nbformat": 4,
 "nbformat_minor": 2
}
